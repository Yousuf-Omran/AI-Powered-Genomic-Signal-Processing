{
  "cells": [
    {
      "cell_type": "markdown",
      "metadata": {
        "id": "Y9GyZn_bSRd4"
      },
      "source": [
        "# Import all required libraries\n"
      ]
    },
    {
      "cell_type": "code",
      "execution_count": null,
      "metadata": {
        "id": "k6dG6rGtQQPC"
      },
      "outputs": [],
      "source": [
        "from pandas import read_excel\n",
        "import numpy as np\n",
        "import random\n",
        "from scipy.signal import stft\n",
        "from scipy.stats import ttest_ind\n",
        "from sklearn.model_selection import StratifiedKFold, cross_val_score\n",
        "from sklearn.neighbors import KNeighborsClassifier\n",
        "from sklearn.svm import SVC\n",
        "from sklearn.tree import DecisionTreeClassifier\n",
        "from sklearn.ensemble import RandomForestClassifier\n",
        "from sklearn.metrics import accuracy_score, confusion_matrix\n"
      ]
    },
    {
      "cell_type": "markdown",
      "metadata": {
        "id": "_-O4op90SaU3"
      },
      "source": [
        "# Read the data from excel\n"
      ]
    },
    {
      "cell_type": "code",
      "execution_count": null,
      "metadata": {
        "id": "OiUbKglySah3"
      },
      "outputs": [],
      "source": [
        "#Read data from excel\n",
        "def EIIP(data_): # numeric representation function\n",
        "    row=len(data_)\n",
        "    data= np.zeros([row,n])\n",
        "    for i in range(row):\n",
        "        for j in range(n):\n",
        "            char= data_[i][0][j]\n",
        "            if char == 'A':\n",
        "                data[i, j]= 0.1260\n",
        "            if char == 'C':\n",
        "                data[i, j]= 0.1340\n",
        "            if char == 'G':\n",
        "                data[i, j]= 0.0806\n",
        "            if char == 'T':\n",
        "                data[i, j]= 0.1335\n",
        "    return data\n",
        "\n",
        "# Chatching data from excel file\n",
        "seq= np.array(read_excel('D:\\\\OneDrive\\\\collage...D\\\\G.P\\\\Data\\\\Databsae\\\\filtered_data.xlsx', header= None) )\n",
        "# set the data shape\n",
        "m, n= 1156, 26592\n",
        "target= np.reshape(np.array( [np.full(int(m/2),1),np.full(int(m/2),0)] ), [m,1]) # ('Other Human Coronavirus Types'= 0 , 'COVID-19'= 1)\n",
        "IDX= np.arange(m)    # indices\n",
        "all_data= EIIP(seq)\n"
      ]
    },
    {
      "cell_type": "markdown",
      "metadata": {
        "id": "bJdoXYM5Sayc"
      },
      "source": [
        "# Apply STFT feature extraction\n"
      ]
    },
    {
      "cell_type": "code",
      "execution_count": null,
      "metadata": {
        "id": "7xXJhQkqSa_A"
      },
      "outputs": [],
      "source": [
        "# STFT feature extraction\n",
        "STFT_= np.zeros( (m, 32*int(n/256)) ) # 32 features extracted from each slice\n",
        "def shortTFT(all_data, STFT_, m, n):\n",
        "    for i in range(m):\n",
        "        r=[]\n",
        "        for j in range(int(n/256)):\n",
        "            rig= all_data[i, j*256: (j+1)*256]\n",
        "            rig_m= np.mean(rig)\n",
        "            conc= np.array([Q-rig_m for Q in rig])\n",
        "            stft_= np.abs(stft(conc, nperseg=7, nfft=8, window='hamming', return_onesided=False, noverlap=-1, padded=False)[2])\n",
        "            STFT_M= np.mean(stft_, axis=0)\n",
        "            r.append(STFT_M)\n",
        "            if j==102:\n",
        "                r= np.array(r).reshape((-1))\n",
        "                STFT_[i]= r\n",
        "    return STFT_\n",
        "STFT= shortTFT(all_data,STFT_ , m,n)\n"
      ]
    },
    {
      "cell_type": "markdown",
      "metadata": {
        "id": "yS8EqOF2SbJf"
      },
      "source": [
        "# Select 15% random samples for testing"
      ]
    },
    {
      "cell_type": "code",
      "execution_count": null,
      "metadata": {
        "id": "O4n4SkO1SbSf"
      },
      "outputs": [],
      "source": [
        "# seed for reproducibility\n",
        "seed= 5\n",
        "random.seed(seed)\n",
        "# acquire testing data/labels from dataset\n",
        "x= random.sample(range(m), 176)\n",
        "x= np.sort(x, axis=0)\n",
        "testing= all_data[(x)]\n",
        "testing_STFT= STFT[(x)]\n",
        "testing_label= target[x]\n"
      ]
    },
    {
      "cell_type": "markdown",
      "metadata": {
        "id": "Z0WlXCwMSba_"
      },
      "source": [
        "# Remove obtained testing data from (training & validation) data\n"
      ]
    },
    {
      "cell_type": "code",
      "execution_count": null,
      "metadata": {
        "id": "WzscWRCJSbhm"
      },
      "outputs": [],
      "source": [
        "# remove obtained testing data from training/validation data\n",
        "data= list(all_data)\n",
        "data_STFT= list(STFT)\n",
        "data_label= list(target)\n",
        "IDX= list(IDX)\n",
        "for i in range(len(x)):\n",
        "  data.pop( x[ -(i+1) ] )\n",
        "  data_STFT.pop( x[ -(i+1) ] )\n",
        "  data_label.pop( x[ -(i+1) ] )\n",
        "  IDX.pop( x[ -(i+1) ] )\n",
        "\n",
        "data= np.array(data)\n",
        "data_STFT= np.array(data_STFT)\n",
        "data_label=np.array(data_label)\n",
        "IDX=np.array(IDX)\n"
      ]
    },
    {
      "cell_type": "markdown",
      "metadata": {
        "id": "eVh6CCVtYJJ5"
      },
      "source": [
        "# Collect the indices of folds data\n"
      ]
    },
    {
      "cell_type": "code",
      "execution_count": null,
      "metadata": {
        "id": "FMY1AC30YJQt"
      },
      "outputs": [],
      "source": [
        "kf= StratifiedKFold(n_splits=5, shuffle=True, random_state=5)\n",
        "indices=[]\n",
        "for idxtrain, idxval in kf.split(data, data_label) :\n",
        "    indices.append(idxtrain)\n"
      ]
    },
    {
      "cell_type": "markdown",
      "metadata": {
        "id": "HS7mNQ9hYJZ_"
      },
      "source": [
        "# Select the best fold data for training\n"
      ]
    },
    {
      "cell_type": "code",
      "execution_count": null,
      "metadata": {
        "id": "MECCx9o4YJkn"
      },
      "outputs": [],
      "source": [
        "numeric_scores= np.zeros((9,5))\n",
        "STFT_scores= np.zeros((9,5))\n",
        "count=0\n",
        "for i in ['KNN-3', 'KNN-5', 'KNN-7', 'LSVM', 'GSVM', 'Decision tree', 'Random forest-11', 'Random forest-51', 'Random forest-101']:\n",
        "    if i == 'KNN-3':\n",
        "        k= KNeighborsClassifier(n_neighbors=3, weights= 'distance')\n",
        "    elif i == 'KNN-5':\n",
        "        k= KNeighborsClassifier(n_neighbors=5, weights= 'distance')\n",
        "    elif i == 'KNN-7':\n",
        "        k= KNeighborsClassifier(n_neighbors=7, weights= 'distance')\n",
        "    elif i == 'LSVM':\n",
        "        k= SVC(kernel='linear')\n",
        "    elif i == 'GSVM':\n",
        "        k= SVC(kernel='rbf')\n",
        "    elif i == 'Decision tree':\n",
        "        k= DecisionTreeClassifier()\n",
        "    elif i== 'Random forest-11':\n",
        "        k= RandomForestClassifier(n_estimators=11)\n",
        "    elif i== 'Random forest-51':\n",
        "        k= RandomForestClassifier(n_estimators=51)\n",
        "    elif i== 'Random forest-101':\n",
        "        k= RandomForestClassifier(n_estimators=101)\n",
        "    # calculate the scores\n",
        "    z= cross_val_score(k, data, data_label, cv=kf)       # for the numeric data\n",
        "    numeric_scores[count]= z\n",
        "    zz= cross_val_score(k, data_STFT, data_label, cv=kf) # for the STFT data\n",
        "    STFT_scores[count]= zz\n",
        "    count+=1\n",
        "# calculate the average of folds data for all algorithms and then select the maximum score\n",
        "best_numeric= np.argmax(np.mean(numeric_scores, axis=0))\n",
        "best_STFT= np.argmax(np.mean(STFT_scores, axis=0))\n",
        "numeric_data= data[indices[best_numeric] ]\n",
        "STFT_data= data_STFT[indices[best_STFT] ]\n"
      ]
    },
    {
      "cell_type": "markdown",
      "metadata": {
        "id": "DCX8EFa_YJs4"
      },
      "source": [
        "# Apply the T-test feature selection (with p-value < 0.01)\n"
      ]
    },
    {
      "cell_type": "code",
      "execution_count": null,
      "metadata": {
        "id": "cf4kXLanYJ13"
      },
      "outputs": [],
      "source": [
        "def selection(data_, IDX):\n",
        "    stat, p_values= ttest_ind(data_[np.where(IDX < (m/2))[0], :], data_[np.where(IDX > (m/2))[0], :], equal_var= False)\n",
        "    p_values_idx= np.argsort(p_values)\n",
        "    alpha= len(np.nonzero(p_values < 0.01)[0][:] )\n",
        "    return data_[:, p_values_idx[ :alpha]], p_values_idx[ :alpha]\n",
        "\n",
        "# set the data selected for numeric/STFT data\n",
        "numeric_data_selected, indx= selection(numeric_data, IDX[indices[best_numeric]] )\n",
        "testing_selected= testing[:,indx]\n",
        "STFT_data_selected, indx_STFT= selection(STFT_data, IDX[indices[best_STFT] ]  )\n",
        "testing_STFT_selected= testing_STFT[:, indx_STFT]\n"
      ]
    },
    {
      "cell_type": "markdown",
      "metadata": {
        "id": "7F3KptBdYJ-3"
      },
      "source": [
        "# Performance Metrics evaluation function\n"
      ]
    },
    {
      "cell_type": "code",
      "execution_count": null,
      "metadata": {
        "id": "yeWzq90FYKHX"
      },
      "outputs": [],
      "source": [
        "def metrics(y_true, y_predict, name, count, Print= False):\n",
        "    tests= ['testing', 'testing_selected', 'testing_STFT', 'testing_STFT_selected']\n",
        "    acc= accuracy_score( y_true, y_predict)                                    # accuracy\n",
        "    t_p, f_p, f_n, t_n= confusion_matrix( y_true, y_predict).ravel()           # true_pos, false_pos, false_neg, true_neg\n",
        "    pre= t_p/ (t_p + f_p)                                                      # precision\n",
        "    rec= t_p/ (t_p + f_n)                                                      # recall\n",
        "    f_sc= (2*pre *rec) / (pre+rec)                                             # F-1 score\n",
        "    sp= t_n/ (t_n + f_p)\n",
        "    if Print == True:\n",
        "        print('\\n%s\\n%s: \\nAccuracy= %f\\nSpecificity= %f\\nSensitivity: %f' %(name, tests[count], acc, sp, rec))\n",
        "        print('Precision= %f\\nF_scores= %f\\nT_p= %d\\nT_n= %d\\nF_p= %d\\nF_n= %d' %(pre, f_sc,t_p, t_n, f_p, f_n))\n",
        "    return acc, sp, rec, pre, f_sc, t_p, t_n, f_p, f_n\n"
      ]
    },
    {
      "cell_type": "markdown",
      "metadata": {
        "id": "-FbbVEO-YKPf"
      },
      "source": [
        "# Call the algorithms, fit, predict, and evaluate the performance\n"
      ]
    },
    {
      "cell_type": "code",
      "execution_count": null,
      "metadata": {
        "id": "qHypqDZNYKXP"
      },
      "outputs": [],
      "source": [
        "TESTS= [testing, testing_selected, testing_STFT, testing_STFT_selected]\n",
        "IND=[best_numeric, best_numeric, best_STFT, best_STFT]\n",
        "\n",
        "for i in ['KNN-3', 'KNN-5', 'KNN-7', 'LSVM', 'GSVM', 'Decision tree', 'Random forest-11', 'Random forest-51', 'Random forest-101']:\n",
        "    if i == 'KNN-3':\n",
        "        k= KNeighborsClassifier(n_neighbors=3, weights= 'distance')\n",
        "    elif i == 'KNN-5':\n",
        "        k= KNeighborsClassifier(n_neighbors=5, weights= 'distance')\n",
        "    elif i == 'KNN-7':\n",
        "        k= KNeighborsClassifier(n_neighbors=7, weights= 'distance')\n",
        "    elif i == 'LSVM':\n",
        "        k= SVC(kernel='linear')\n",
        "    elif i == 'GSVM':\n",
        "        k= SVC(kernel='rbf')\n",
        "    elif i == 'Decision tree':\n",
        "        k= DecisionTreeClassifier()\n",
        "    elif i== 'Random forest-11':\n",
        "        k= RandomForestClassifier(n_estimators=11)\n",
        "    elif i== 'Random forest-51':\n",
        "        k= RandomForestClassifier(n_estimators=51)\n",
        "    elif i== 'Random forest-101':\n",
        "        k= RandomForestClassifier(n_estimators=101)\n",
        "\n",
        "    # numeric_data          --> #testing\n",
        "    # numeric_data_selected -->  #testing_selected\n",
        "    # STFT_data             -->   #testing_STFT\n",
        "    # STFT_data_selected    -->    #testing_STFT_selected\n",
        "    count=0\n",
        "    for j in [numeric_data, numeric_data_selected, STFT_data, STFT_data_selected]:\n",
        "        prediction= k.fit(j, target[IDX[indices[ IND[count] ]]] ).predict( TESTS[count])\n",
        "        metrics(testing_label, prediction, i, count, True)\n",
        "        count+=1\n"
      ]
    }
  ],
  "metadata": {
    "colab": {
      "provenance": []
    },
    "kernelspec": {
      "display_name": "Python 3",
      "name": "python3"
    },
    "language_info": {
      "name": "python"
    }
  },
  "nbformat": 4,
  "nbformat_minor": 0
}
